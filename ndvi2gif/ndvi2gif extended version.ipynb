{
 "cells": [
  {
   "cell_type": "code",
   "execution_count": null,
   "id": "d880cfef",
   "metadata": {
    "scrolled": true
   },
   "outputs": [],
   "source": [
    "#!pip install geemap\n",
    "#!pip install ndvi2gif\n",
    "!pip show geemap"
   ]
  },
  {
   "cell_type": "code",
   "execution_count": 1,
   "id": "68cd020b",
   "metadata": {},
   "outputs": [],
   "source": [
    "import geemap\n",
    "import ee\n",
    "from ndvi2gif import NdviSeasonality"
   ]
  },
  {
   "cell_type": "code",
   "execution_count": 2,
   "id": "3670d888",
   "metadata": {},
   "outputs": [
    {
     "data": {
      "text/html": [
       "\n",
       "            <style>\n",
       "                .geemap-dark {\n",
       "                    --jp-widgets-color: white;\n",
       "                    --jp-widgets-label-color: white;\n",
       "                    --jp-ui-font-color1: white;\n",
       "                    --jp-layout-color2: #454545;\n",
       "                    background-color: #383838;\n",
       "                }\n",
       "                    \n",
       "                .geemap-dark .jupyter-button {\n",
       "                    --jp-layout-color3: #383838;\n",
       "                }\n",
       "                \n",
       "                .geemap-colab {\n",
       "                    background-color: var(--colab-primary-surface-color, white);\n",
       "                }\n",
       "                    \n",
       "                .geemap-colab .jupyter-button {\n",
       "                    --jp-layout-color3: var(--colab-primary-surface-color, white);\n",
       "                }\n",
       "            </style>\n",
       "            "
      ],
      "text/plain": [
       "<IPython.core.display.HTML object>"
      ]
     },
     "metadata": {},
     "output_type": "display_data"
    },
    {
     "data": {
      "application/vnd.jupyter.widget-view+json": {
       "model_id": "e7a825fc5dc048a28ef9c756dafd9f2b",
       "version_major": 2,
       "version_minor": 0
      },
      "text/plain": [
       "Map(center=[0, 0], controls=(WidgetControl(options=['position', 'transparent_bg'], widget=SearchDataGUI(childr…"
      ]
     },
     "execution_count": 2,
     "metadata": {},
     "output_type": "execute_result"
    }
   ],
   "source": [
    "Map = geemap.Map()\n",
    "Map"
   ]
  },
  {
   "cell_type": "markdown",
   "id": "bbfc4ef9",
   "metadata": {},
   "source": [
    "We utilize the map drawing tools to create a roi"
   ]
  },
  {
   "cell_type": "code",
   "execution_count": null,
   "id": "cd61f4ad",
   "metadata": {},
   "outputs": [],
   "source": [
    "roi = Map.draw_last_feature"
   ]
  },
  {
   "cell_type": "code",
   "execution_count": 3,
   "id": "00c2c58d-17f3-4da9-a151-4c9d0730c825",
   "metadata": {},
   "outputs": [
    {
     "data": {
      "text/html": [
       "\n",
       "            <style>\n",
       "                .geemap-dark {\n",
       "                    --jp-widgets-color: white;\n",
       "                    --jp-widgets-label-color: white;\n",
       "                    --jp-ui-font-color1: white;\n",
       "                    --jp-layout-color2: #454545;\n",
       "                    background-color: #383838;\n",
       "                }\n",
       "                    \n",
       "                .geemap-dark .jupyter-button {\n",
       "                    --jp-layout-color3: #383838;\n",
       "                }\n",
       "                \n",
       "                .geemap-colab {\n",
       "                    background-color: var(--colab-primary-surface-color, white);\n",
       "                }\n",
       "                    \n",
       "                .geemap-colab .jupyter-button {\n",
       "                    --jp-layout-color3: var(--colab-primary-surface-color, white);\n",
       "                }\n",
       "            </style>\n",
       "            "
      ],
      "text/plain": [
       "<IPython.core.display.HTML object>"
      ]
     },
     "metadata": {},
     "output_type": "display_data"
    },
    {
     "name": "stdout",
     "output_type": "stream",
     "text": [
      "There we go again...\n",
      "Loading WRS-2 geometry from USGS...\n"
     ]
    },
    {
     "ename": "BadZipFile",
     "evalue": "File is not a zip file",
     "output_type": "error",
     "traceback": [
      "\u001b[0;31m---------------------------------------------------------------------------\u001b[0m",
      "\u001b[0;31mBadZipFile\u001b[0m                                Traceback (most recent call last)",
      "Cell \u001b[0;32mIn[3], line 1\u001b[0m\n\u001b[0;32m----> 1\u001b[0m s \u001b[38;5;241m=\u001b[39m \u001b[43mNdviSeasonality\u001b[49m\u001b[43m(\u001b[49m\u001b[43mroi\u001b[49m\u001b[38;5;241;43m=\u001b[39;49m\u001b[38;5;124;43m\"\u001b[39;49m\u001b[38;5;124;43mwrs:202,34\u001b[39;49m\u001b[38;5;124;43m\"\u001b[39;49m\u001b[43m,\u001b[49m\u001b[43m \u001b[49m\u001b[43mstart_year\u001b[49m\u001b[38;5;241;43m=\u001b[39;49m\u001b[38;5;241;43m2022\u001b[39;49m\u001b[43m,\u001b[49m\u001b[43m \u001b[49m\u001b[43mend_year\u001b[49m\u001b[38;5;241;43m=\u001b[39;49m\u001b[38;5;241;43m2022\u001b[39;49m\u001b[43m,\u001b[49m\u001b[43m \u001b[49m\u001b[43msat\u001b[49m\u001b[38;5;241;43m=\u001b[39;49m\u001b[38;5;124;43m\"\u001b[39;49m\u001b[38;5;124;43mLandsat\u001b[39;49m\u001b[38;5;124;43m\"\u001b[39;49m\u001b[43m)\u001b[49m\n\u001b[1;32m      2\u001b[0m \u001b[38;5;28mprint\u001b[39m(s\u001b[38;5;241m.\u001b[39mroi\u001b[38;5;241m.\u001b[39mgetInfo())\n",
      "File \u001b[0;32m~/git/Ndvi2Gif/ndvi2gif/ndvi2gif.py:76\u001b[0m, in \u001b[0;36mNdviSeasonality.__init__\u001b[0;34m(self, roi, periods, start_year, end_year, sat, key, index)\u001b[0m\n\u001b[1;32m     74\u001b[0m url \u001b[38;5;241m=\u001b[39m \u001b[38;5;124m'\u001b[39m\u001b[38;5;124mhttps://prd-tnm.s3.amazonaws.com/StagedProducts/WRS/WRS2_descending/WRS2_descending.zip\u001b[39m\u001b[38;5;124m'\u001b[39m\n\u001b[1;32m     75\u001b[0m response \u001b[38;5;241m=\u001b[39m requests\u001b[38;5;241m.\u001b[39mget(url)\n\u001b[0;32m---> 76\u001b[0m \u001b[38;5;28;01mwith\u001b[39;00m \u001b[43mzipfile\u001b[49m\u001b[38;5;241;43m.\u001b[39;49m\u001b[43mZipFile\u001b[49m\u001b[43m(\u001b[49m\u001b[43mBytesIO\u001b[49m\u001b[43m(\u001b[49m\u001b[43mresponse\u001b[49m\u001b[38;5;241;43m.\u001b[39;49m\u001b[43mcontent\u001b[49m\u001b[43m)\u001b[49m\u001b[43m)\u001b[49m \u001b[38;5;28;01mas\u001b[39;00m z:\n\u001b[1;32m     77\u001b[0m     \u001b[38;5;66;03m# Buscar el archivo .shp\u001b[39;00m\n\u001b[1;32m     78\u001b[0m     shapefile_name \u001b[38;5;241m=\u001b[39m [f \u001b[38;5;28;01mfor\u001b[39;00m f \u001b[38;5;129;01min\u001b[39;00m z\u001b[38;5;241m.\u001b[39mnamelist() \u001b[38;5;28;01mif\u001b[39;00m f\u001b[38;5;241m.\u001b[39mendswith(\u001b[38;5;124m'\u001b[39m\u001b[38;5;124m.shp\u001b[39m\u001b[38;5;124m'\u001b[39m)][\u001b[38;5;241m0\u001b[39m]\n\u001b[1;32m     79\u001b[0m     \u001b[38;5;28;01mwith\u001b[39;00m z\u001b[38;5;241m.\u001b[39mopen(shapefile_name) \u001b[38;5;28;01mas\u001b[39;00m shp:\n",
      "File \u001b[0;32m/usr/lib/python3.10/zipfile.py:1272\u001b[0m, in \u001b[0;36mZipFile.__init__\u001b[0;34m(self, file, mode, compression, allowZip64, compresslevel, strict_timestamps)\u001b[0m\n\u001b[1;32m   1270\u001b[0m \u001b[38;5;28;01mtry\u001b[39;00m:\n\u001b[1;32m   1271\u001b[0m     \u001b[38;5;28;01mif\u001b[39;00m mode \u001b[38;5;241m==\u001b[39m \u001b[38;5;124m'\u001b[39m\u001b[38;5;124mr\u001b[39m\u001b[38;5;124m'\u001b[39m:\n\u001b[0;32m-> 1272\u001b[0m         \u001b[38;5;28;43mself\u001b[39;49m\u001b[38;5;241;43m.\u001b[39;49m\u001b[43m_RealGetContents\u001b[49m\u001b[43m(\u001b[49m\u001b[43m)\u001b[49m\n\u001b[1;32m   1273\u001b[0m     \u001b[38;5;28;01melif\u001b[39;00m mode \u001b[38;5;129;01min\u001b[39;00m (\u001b[38;5;124m'\u001b[39m\u001b[38;5;124mw\u001b[39m\u001b[38;5;124m'\u001b[39m, \u001b[38;5;124m'\u001b[39m\u001b[38;5;124mx\u001b[39m\u001b[38;5;124m'\u001b[39m):\n\u001b[1;32m   1274\u001b[0m         \u001b[38;5;66;03m# set the modified flag so central directory gets written\u001b[39;00m\n\u001b[1;32m   1275\u001b[0m         \u001b[38;5;66;03m# even if no files are added to the archive\u001b[39;00m\n\u001b[1;32m   1276\u001b[0m         \u001b[38;5;28mself\u001b[39m\u001b[38;5;241m.\u001b[39m_didModify \u001b[38;5;241m=\u001b[39m \u001b[38;5;28;01mTrue\u001b[39;00m\n",
      "File \u001b[0;32m/usr/lib/python3.10/zipfile.py:1339\u001b[0m, in \u001b[0;36mZipFile._RealGetContents\u001b[0;34m(self)\u001b[0m\n\u001b[1;32m   1337\u001b[0m     \u001b[38;5;28;01mraise\u001b[39;00m BadZipFile(\u001b[38;5;124m\"\u001b[39m\u001b[38;5;124mFile is not a zip file\u001b[39m\u001b[38;5;124m\"\u001b[39m)\n\u001b[1;32m   1338\u001b[0m \u001b[38;5;28;01mif\u001b[39;00m \u001b[38;5;129;01mnot\u001b[39;00m endrec:\n\u001b[0;32m-> 1339\u001b[0m     \u001b[38;5;28;01mraise\u001b[39;00m BadZipFile(\u001b[38;5;124m\"\u001b[39m\u001b[38;5;124mFile is not a zip file\u001b[39m\u001b[38;5;124m\"\u001b[39m)\n\u001b[1;32m   1340\u001b[0m \u001b[38;5;28;01mif\u001b[39;00m \u001b[38;5;28mself\u001b[39m\u001b[38;5;241m.\u001b[39mdebug \u001b[38;5;241m>\u001b[39m \u001b[38;5;241m1\u001b[39m:\n\u001b[1;32m   1341\u001b[0m     \u001b[38;5;28mprint\u001b[39m(endrec)\n",
      "\u001b[0;31mBadZipFile\u001b[0m: File is not a zip file"
     ]
    }
   ],
   "source": [
    "s = NdviSeasonality(roi=\"wrs:202,34\", start_year=2022, end_year=2022, sat=\"Landsat\")\n",
    "print(s.roi.getInfo())"
   ]
  },
  {
   "cell_type": "code",
   "execution_count": null,
   "id": "d3ddc0de",
   "metadata": {},
   "outputs": [],
   "source": [
    "# Here we select ndwi max for 12 periods seasons in Andalucia\n",
    "myclass = NdviSeasonality(roi=roi, sat='MODIS', key='median', periods=12,start_year=2017, end_year=2022, index='ndwi')\n",
    "s2 = myclass.get_year_composite()\n",
    "\n",
    "vizParams = {'bands': ['march', 'april', 'june'], 'min': 0, 'max':0.8}\n",
    "\n",
    "Map.addLayer(s2, vizParams, 'P90')"
   ]
  },
  {
   "cell_type": "code",
   "execution_count": null,
   "id": "0e6d44ca",
   "metadata": {},
   "outputs": [],
   "source": [
    "# Doñana NDVI \n",
    "# Here we select ndwi max for 12 periods seasons\n",
    "# Show graphics and pixel values\n",
    "# Also change to 24 periods\n",
    "\n",
    "myclass = NdviSeasonality(roi=roi, sat='S2', key='max', periods=12,start_year=2017, end_year=2022, index='ndmi')\n",
    "s2 = myclass.get_year_composite()\n",
    "\n",
    "vizParams = {'bands': ['january', 'november', 'july'], 'min': 0, 'max':0.8}\n",
    "\n",
    "Map.addLayer(s2, vizParams, 'P90')"
   ]
  },
  {
   "cell_type": "markdown",
   "id": "d3d3e41c",
   "metadata": {},
   "source": [
    "Of course, it's possible to use loops to load several data at once"
   ]
  },
  {
   "cell_type": "code",
   "execution_count": null,
   "id": "3c046e23-32c3-48f8-be3c-7d2b1e7273ab",
   "metadata": {},
   "outputs": [],
   "source": [
    "# Here we download a gif for all the years in our class with the selected bands\n",
    "myclass.get_gif(bands=['january', 'november', 'july'])"
   ]
  },
  {
   "cell_type": "code",
   "execution_count": null,
   "id": "7cc7044b",
   "metadata": {},
   "outputs": [],
   "source": [
    "Map = geemap.Map()\n",
    "Map"
   ]
  },
  {
   "cell_type": "code",
   "execution_count": null,
   "id": "3ec9bb01",
   "metadata": {},
   "outputs": [],
   "source": [
    "roi = Map.draw_last_feature"
   ]
  },
  {
   "cell_type": "code",
   "execution_count": null,
   "id": "9ed2c0c6",
   "metadata": {},
   "outputs": [],
   "source": [
    "# Statistics loop\n",
    "\n",
    "stats = ['max', 'median', 'mean', 'perc_90', 'perc_95']\n",
    "vizParams = {'bands': ['march', 'april', 'june'], 'min': 0, 'max':0.8}\n",
    "\n",
    "for i in stats:\n",
    "\n",
    "    myclass = NdviSeasonality(roi=roi, sat='S2', key=i, periods=12,start_year=2020, end_year=2022, index='ndvi')\n",
    "    s2 = myclass.get_year_composite()\n",
    "    Map.addLayer(s2, vizParams, str(i))"
   ]
  },
  {
   "cell_type": "code",
   "execution_count": null,
   "id": "212f9262",
   "metadata": {},
   "outputs": [],
   "source": [
    "# Years loop\n",
    "# Change roi to Doñana deimsID\n",
    "\n",
    "years = [i for i in range(2018, 2023)]\n",
    "\n",
    "vizParams = {'bands': ['march', 'april', 'june'], 'min': 0, 'max':0.8}\n",
    "\n",
    "for y in years:\n",
    "    \n",
    "    name = 'maxNDVI_' + str(y)\n",
    "    myclass = NdviSeasonality(roi=roi, sat='S2', key='perc_90', periods=12,start_year=y, end_year=y+1, index='ndvi')\n",
    "    s2 = myclass.get_year_composite()\n",
    "    Map.addLayer(s2, vizParams, name)"
   ]
  },
  {
   "cell_type": "markdown",
   "id": "3ea5dc40",
   "metadata": {},
   "source": [
    "We could do something bigger. \n",
    "Africa Example with MODIS"
   ]
  },
  {
   "cell_type": "code",
   "execution_count": null,
   "id": "aeb39fff",
   "metadata": {},
   "outputs": [],
   "source": [
    "Map = geemap.Map()\n",
    "Map"
   ]
  },
  {
   "cell_type": "code",
   "execution_count": null,
   "id": "f8e49a7b",
   "metadata": {},
   "outputs": [],
   "source": [
    "import ee\n",
    "countries = ee.FeatureCollection('USDOS/LSIB_SIMPLE/2017').filter(ee.Filter.eq(\"wld_rgn\", \"Africa\"))"
   ]
  },
  {
   "cell_type": "code",
   "execution_count": null,
   "id": "9ede6e4e",
   "metadata": {},
   "outputs": [],
   "source": [
    "# Africa NDVI Mean\n",
    "# Also show Nile delta with S2, take a sight on what you can see over the desert\n",
    "\n",
    "Africa = NdviSeasonality(roi=roi, sat='MODIS', key='mean', periods=4,start_year=2020, end_year=2022, index='ndvi')\n",
    "MODIS = Africa.get_year_composite()\n",
    "\n",
    "vizParams = {'bands': ['summer', 'winter', 'spring'], 'min': 0.1, 'max':0.8}\n",
    "Map.addLayer(MODIS, vizParams, 'S2_P95_24')"
   ]
  },
  {
   "cell_type": "markdown",
   "id": "d7ad97fa",
   "metadata": {},
   "source": [
    "We said deimsPY allows to select your eLTER site qith only using your deimsID, so let's check it out"
   ]
  },
  {
   "cell_type": "code",
   "execution_count": null,
   "id": "b2c5c7ff",
   "metadata": {},
   "outputs": [],
   "source": [
    "Map = geemap.Map()\n",
    "Map"
   ]
  },
  {
   "cell_type": "code",
   "execution_count": null,
   "id": "1abdcdb0",
   "metadata": {},
   "outputs": [],
   "source": [
    "# Braila Island Flood\n",
    "\n",
    "myclass = NdviSeasonality(roi='deimsid:https://deims.org/d4854af8-9d9f-42a2-af96-f1ed9cb25712', sat='S2', key='perc_95', periods=12,start_year=2017, end_year=2022, index='ndwi')\n",
    "s2 = myclass.get_year_composite()\n",
    "vizParams = {'bands': ['october', 'june', 'january'], 'min': 0.1, 'max':0.8}\n",
    "Map.addLayer(s2, vizParams, 'Braila Island P95')"
   ]
  },
  {
   "cell_type": "markdown",
   "id": "dc54cc6b",
   "metadata": {},
   "source": [
    "Let's try to get the maximum flood in al januarys"
   ]
  },
  {
   "cell_type": "code",
   "execution_count": null,
   "id": "2bcd2105",
   "metadata": {},
   "outputs": [],
   "source": [
    "# Max january flood\n",
    "\n",
    "januaryFloodmax = s2.select('january').max()\n",
    "Map.addLayer(januaryFloodmax, {'min': 0, 'max':0.8}, 'January Max Flood P90')"
   ]
  },
  {
   "cell_type": "code",
   "execution_count": null,
   "id": "08fcefbd",
   "metadata": {
    "scrolled": true
   },
   "outputs": [],
   "source": [
    "Map = geemap.Map()\n",
    "Map"
   ]
  },
  {
   "cell_type": "code",
   "execution_count": null,
   "id": "96375792",
   "metadata": {},
   "outputs": [],
   "source": [
    "roi = Map.draw_last_feature"
   ]
  },
  {
   "cell_type": "code",
   "execution_count": null,
   "id": "da8c4dc1",
   "metadata": {},
   "outputs": [],
   "source": [
    "# Doñana NDVI Stats\n",
    "myclass = NdviSeasonality(roi='deimsid:https://deims.org/bcbc866c-3f4f-47a8-bbbc-0a93df6de7b2', sat='Landsat', \n",
    "                          key='max', periods=12,start_year=2019, end_year=2020, index='ndvi')\n",
    "Landsat = myclass.get_year_composite()\n",
    "vizParams = {'bands': ['january', 'april', 'september'], 'min': 0.1, 'max':0.8}\n",
    "\n",
    "Map.addLayer(Landsat, vizParams, 'Max')"
   ]
  },
  {
   "cell_type": "markdown",
   "id": "42ac38ae",
   "metadata": {},
   "source": [
    "We can also have zonal statistic"
   ]
  },
  {
   "cell_type": "code",
   "execution_count": null,
   "id": "ab9b1f3e",
   "metadata": {},
   "outputs": [],
   "source": [
    "# Points and polygons zonal stats\n",
    "\n",
    "import os\n",
    "\n",
    "# This is a Google Earth Engine Feature Collection\n",
    "alcornoques = ee.FeatureCollection('users/digdgeografo/pajarera')\n",
    "\n",
    "# This is a local point shapefile\n",
    "samples = '/home/diego/samples.shp'\n",
    "geom = geemap.shp_to_ee(samples)\n",
    "\n",
    "# Define the ouptut shape\n",
    "out_shp = os.path.join(os.getcwd(), 'mystatstets_oaks.shp')\n",
    "\n",
    "# Compute the statistics\n",
    "geemap.zonal_statistics(Landsat, in_zone_vector=alcornoques, out_file_path=out_shp, statistics_type='MEAN', scale=30)"
   ]
  },
  {
   "cell_type": "markdown",
   "id": "5fa37f09",
   "metadata": {},
   "source": [
    "It is also possible to export the collections. There's a problem qith size limits from GEE but small areas are ok"
   ]
  },
  {
   "cell_type": "code",
   "execution_count": null,
   "id": "6930189b",
   "metadata": {},
   "outputs": [],
   "source": [
    "# Take a smaller roi\n",
    "\n",
    "roi = Map.draw_last_feature"
   ]
  },
  {
   "cell_type": "code",
   "execution_count": null,
   "id": "ee1bcef1",
   "metadata": {},
   "outputs": [],
   "source": [
    "# Here we select ndwi max for 12 periods seasons in Andalucia\n",
    "\n",
    "myclass = NdviSeasonality(roi=roi, sat='Landsat', key='max', periods=12,start_year=2017, end_year=2020, index='ndvi')\n",
    "Landsat = myclass.get_year_composite()\n",
    "vizParams = {'bands': ['january', 'april', 'september'], 'min': 0.1, 'max':0.8}\n",
    "\n",
    "Map.addLayer(Landsat, vizParams, 'Max')"
   ]
  },
  {
   "cell_type": "code",
   "execution_count": null,
   "id": "d058607a",
   "metadata": {},
   "outputs": [],
   "source": [
    "# Export it and load the data in QGIS\n",
    "\n",
    "myclass.get_export()"
   ]
  },
  {
   "cell_type": "code",
   "execution_count": null,
   "id": "c561b381",
   "metadata": {
    "scrolled": true
   },
   "outputs": [],
   "source": [
    "Map = geemap.Map()\n",
    "Map"
   ]
  },
  {
   "cell_type": "code",
   "execution_count": null,
   "id": "a9586229",
   "metadata": {},
   "outputs": [],
   "source": [
    "roi = Map.draw_last_feature"
   ]
  },
  {
   "cell_type": "code",
   "execution_count": null,
   "id": "bf678deb",
   "metadata": {},
   "outputs": [],
   "source": [
    "# Last but not least and exaample of Sierra Nevada NDSI\n",
    "\n",
    "myclass = NdviSeasonality(roi=roi, sat='S2', key='median',\n",
    "                          periods=12,start_year=2020, end_year=2022, index='ndsi')\n",
    "s2 = myclass.get_year_composite()\n",
    "\n",
    "vizParams = {'bands': ['january', 'february', 'march'], 'min': 0, 'max':0.8}\n",
    "Map.addLayer(s2, vizParams, 'S2_MAX_Sierra Nevada')"
   ]
  }
 ],
 "metadata": {
  "hide_input": false,
  "kernelspec": {
   "display_name": "Python 3 (ipykernel)",
   "language": "python",
   "name": "python3"
  },
  "language_info": {
   "codemirror_mode": {
    "name": "ipython",
    "version": 3
   },
   "file_extension": ".py",
   "mimetype": "text/x-python",
   "name": "python",
   "nbconvert_exporter": "python",
   "pygments_lexer": "ipython3",
   "version": "3.10.12"
  },
  "toc": {
   "base_numbering": 1,
   "nav_menu": {},
   "number_sections": true,
   "sideBar": true,
   "skip_h1_title": false,
   "title_cell": "Table of Contents",
   "title_sidebar": "Contents",
   "toc_cell": false,
   "toc_position": {},
   "toc_section_display": true,
   "toc_window_display": false
  },
  "varInspector": {
   "cols": {
    "lenName": 16,
    "lenType": 16,
    "lenVar": 40
   },
   "kernels_config": {
    "python": {
     "delete_cmd_postfix": "",
     "delete_cmd_prefix": "del ",
     "library": "var_list.py",
     "varRefreshCmd": "print(var_dic_list())"
    },
    "r": {
     "delete_cmd_postfix": ") ",
     "delete_cmd_prefix": "rm(",
     "library": "var_list.r",
     "varRefreshCmd": "cat(var_dic_list()) "
    }
   },
   "types_to_exclude": [
    "module",
    "function",
    "builtin_function_or_method",
    "instance",
    "_Feature"
   ],
   "window_display": false
  }
 },
 "nbformat": 4,
 "nbformat_minor": 5
}
