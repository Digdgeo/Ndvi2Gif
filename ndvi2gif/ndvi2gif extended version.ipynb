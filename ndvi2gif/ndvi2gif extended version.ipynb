{
 "cells": [
  {
   "cell_type": "code",
   "execution_count": null,
   "id": "d880cfef",
   "metadata": {
    "scrolled": true
   },
   "outputs": [],
   "source": [
    "#!pip install geemap\n",
    "#!pip install ndvi2gif\n",
    "#!pip install geedim"
   ]
  },
  {
   "cell_type": "code",
   "execution_count": 1,
   "id": "68cd020b",
   "metadata": {},
   "outputs": [],
   "source": [
    "import geemap\n",
    "import ee\n",
    "from ndvi2gif import NdviSeasonality"
   ]
  },
  {
   "cell_type": "code",
   "execution_count": 2,
   "id": "3670d888",
   "metadata": {},
   "outputs": [
    {
     "data": {
      "text/html": [
       "\n",
       "            <style>\n",
       "                .geemap-dark {\n",
       "                    --jp-widgets-color: white;\n",
       "                    --jp-widgets-label-color: white;\n",
       "                    --jp-ui-font-color1: white;\n",
       "                    --jp-layout-color2: #454545;\n",
       "                    background-color: #383838;\n",
       "                }\n",
       "                    \n",
       "                .geemap-dark .jupyter-button {\n",
       "                    --jp-layout-color3: #383838;\n",
       "                }\n",
       "                \n",
       "                .geemap-colab {\n",
       "                    background-color: var(--colab-primary-surface-color, white);\n",
       "                }\n",
       "                    \n",
       "                .geemap-colab .jupyter-button {\n",
       "                    --jp-layout-color3: var(--colab-primary-surface-color, white);\n",
       "                }\n",
       "            </style>\n",
       "            "
      ],
      "text/plain": [
       "<IPython.core.display.HTML object>"
      ]
     },
     "metadata": {},
     "output_type": "display_data"
    },
    {
     "data": {
      "application/vnd.jupyter.widget-view+json": {
       "model_id": "7f3dde26952c4141997966ffb68d7d0f",
       "version_major": 2,
       "version_minor": 0
      },
      "text/plain": [
       "Map(center=[0, 0], controls=(WidgetControl(options=['position', 'transparent_bg'], widget=SearchDataGUI(childr…"
      ]
     },
     "execution_count": 2,
     "metadata": {},
     "output_type": "execute_result"
    }
   ],
   "source": [
    "Map = geemap.Map()\n",
    "Map"
   ]
  },
  {
   "cell_type": "markdown",
   "id": "bbfc4ef9",
   "metadata": {},
   "source": [
    "We utilize the map drawing tools to create a roi"
   ]
  },
  {
   "cell_type": "code",
   "execution_count": null,
   "id": "cd61f4ad",
   "metadata": {},
   "outputs": [],
   "source": [
    "roi = Map.draw_last_feature"
   ]
  },
  {
   "cell_type": "code",
   "execution_count": null,
   "id": "00c2c58d-17f3-4da9-a151-4c9d0730c825",
   "metadata": {},
   "outputs": [],
   "source": [
    "s = NdviSeasonality(roi=\"s2:29SQA\", start_year=2022, end_year=2022, sat=\"Landsat\")\n",
    "print(s.roi.getInfo())"
   ]
  },
  {
   "cell_type": "code",
   "execution_count": 3,
   "id": "d3ddc0de",
   "metadata": {},
   "outputs": [
    {
     "data": {
      "text/html": [
       "\n",
       "            <style>\n",
       "                .geemap-dark {\n",
       "                    --jp-widgets-color: white;\n",
       "                    --jp-widgets-label-color: white;\n",
       "                    --jp-ui-font-color1: white;\n",
       "                    --jp-layout-color2: #454545;\n",
       "                    background-color: #383838;\n",
       "                }\n",
       "                    \n",
       "                .geemap-dark .jupyter-button {\n",
       "                    --jp-layout-color3: #383838;\n",
       "                }\n",
       "                \n",
       "                .geemap-colab {\n",
       "                    background-color: var(--colab-primary-surface-color, white);\n",
       "                }\n",
       "                    \n",
       "                .geemap-colab .jupyter-button {\n",
       "                    --jp-layout-color3: var(--colab-primary-surface-color, white);\n",
       "                }\n",
       "            </style>\n",
       "            "
      ],
      "text/plain": [
       "<IPython.core.display.HTML object>"
      ]
     },
     "metadata": {},
     "output_type": "display_data"
    },
    {
     "name": "stdout",
     "output_type": "stream",
     "text": [
      "There we go again...\n",
      "Loading Sentinel-2 MGRS tile from GitHub...\n",
      "Found Sentinel-2 tile for 29SQA\n"
     ]
    }
   ],
   "source": [
    "# Here we select ndwi max for 12 periods seasons in Andalucia\n",
    "myclass = NdviSeasonality(roi=\"s2:29SQA\", sat='S2', key='median', periods=4,start_year=2016, end_year=2024, index='ndwi')\n",
    "s2 = myclass.get_year_composite()\n",
    "\n",
    "vizParams = {'bands': ['winter', 'spring', 'summer'], 'min': 0, 'max':0.5}\n",
    "\n",
    "Map.addLayer(s2, vizParams, 'P90')"
   ]
  },
  {
   "cell_type": "code",
   "execution_count": 4,
   "id": "32ecc8f3-aa64-45c5-bbab-c48a8d7d9f74",
   "metadata": {},
   "outputs": [
    {
     "data": {
      "text/html": [
       "\n",
       "            <style>\n",
       "                .geemap-dark {\n",
       "                    --jp-widgets-color: white;\n",
       "                    --jp-widgets-label-color: white;\n",
       "                    --jp-ui-font-color1: white;\n",
       "                    --jp-layout-color2: #454545;\n",
       "                    background-color: #383838;\n",
       "                }\n",
       "                    \n",
       "                .geemap-dark .jupyter-button {\n",
       "                    --jp-layout-color3: #383838;\n",
       "                }\n",
       "                \n",
       "                .geemap-colab {\n",
       "                    background-color: var(--colab-primary-surface-color, white);\n",
       "                }\n",
       "                    \n",
       "                .geemap-colab .jupyter-button {\n",
       "                    --jp-layout-color3: var(--colab-primary-surface-color, white);\n",
       "                }\n",
       "            </style>\n",
       "            "
      ],
      "text/plain": [
       "<IPython.core.display.HTML object>"
      ]
     },
     "metadata": {},
     "output_type": "display_data"
    },
    {
     "name": "stdout",
     "output_type": "stream",
     "text": [
      "There we go again...\n",
      "Loading Sentinel-2 MGRS tile from GitHub...\n",
      "Found Sentinel-2 tile for 29SQA\n",
      "There we go again...\n",
      "Loading Sentinel-2 MGRS tile from GitHub...\n",
      "Found Sentinel-2 tile for 29SQA\n"
     ]
    }
   ],
   "source": [
    "# ✅ NUEVAS POSIBILIDADES:\n",
    "# 6 períodos (~2 meses cada uno)\n",
    "myclass_6 = NdviSeasonality(roi=\"s2:29SQA\", sat='S2', key='median', periods=6, \n",
    "                            start_year=2016, end_year=2024, index='ndvi')\n",
    "s2_6 = myclass_6.get_year_composite()\n",
    "# Bandas disponibles: ['p1', 'p2', 'p3', 'p4', 'p5', 'p6']\n",
    "\n",
    "# 8 períodos (~1.5 meses cada uno)  \n",
    "myclass_8 = NdviSeasonality(roi=\"s2:29SQA\", sat='S2', key='median', periods=8,\n",
    "                            start_year=2016, end_year=2024, index='ndvi')\n",
    "s2_8 = myclass_8.get_year_composite()\n",
    "# Bandas disponibles: ['p1', 'p2', ..., 'p8']\n",
    "\n",
    "# Visualizar los primeros 3 períodos de cualquier configuración\n",
    "vizParams = {'bands': myclass_6.period_names[:3], 'min': 0, 'max': 0.5}\n",
    "Map.addLayer(s2_6, vizParams, 'NDvI 6 periods')"
   ]
  },
  {
   "cell_type": "code",
   "execution_count": null,
   "id": "0ecd17d7-4197-4a9d-9fb5-b7423136f0ec",
   "metadata": {},
   "outputs": [],
   "source": [
    "import geopandas as gpd\n",
    "from shapely.geometry import Polygon, MultiPolygon\n",
    "\n",
    "def convert_3D_2D(geometry):\n",
    "    new_geo = []\n",
    "    for geom in geometry:\n",
    "        if hasattr(geom, \"has_z\") and geom.has_z:\n",
    "            if geom.geom_type == 'Polygon':\n",
    "                exterior = [xy[:2] for xy in geom.exterior.coords]\n",
    "                interiors = [[xy[:2] for xy in ring.coords] for ring in geom.interiors]\n",
    "                new_geom = Polygon(exterior, interiors)\n",
    "                new_geo.append(new_geom)\n",
    "            elif geom.geom_type == 'MultiPolygon':\n",
    "                parts = []\n",
    "                for part in geom.geoms:\n",
    "                    exterior = [xy[:2] for xy in part.exterior.coords]\n",
    "                    interiors = [[xy[:2] for xy in ring.coords] for ring in part.interiors]\n",
    "                    parts.append(Polygon(exterior, interiors))\n",
    "                new_geo.append(MultiPolygon(parts))\n",
    "        else:\n",
    "            new_geo.append(geom)  # ya es 2D o no tiene .has_z\n",
    "    return new_geo\n",
    "\n",
    "# Cargar el archivo\n",
    "gdf = gpd.read_file(\"../data/s2tiles.geojson\")\n",
    "\n",
    "# Convertir geometrías a 2D si es necesario\n",
    "gdf[\"geometry\"] = convert_3D_2D(gdf[\"geometry\"])\n",
    "\n",
    "# Verificar resultado\n",
    "print(gdf.geometry.iloc[0].wkt[:200])  # Muestra el principio del WKT para confirmar que no hay Z\n",
    "\n",
    "# Guardar el nuevo archivo\n",
    "gdf.to_file(\"../data/s2tiles_clean.geojson\", driver=\"GeoJSON\")"
   ]
  },
  {
   "cell_type": "code",
   "execution_count": null,
   "id": "0e6d44ca",
   "metadata": {},
   "outputs": [],
   "source": [
    "# Doñana NDVI \n",
    "# Here we select ndwi max for 12 periods seasons\n",
    "# Show graphics and pixel values\n",
    "# Also change to 24 periods\n",
    "\n",
    "myclass = NdviSeasonality(roi=roi, sat='S2', key='max', periods=12,start_year=1984, end_year=2024, index='ndmi')\n",
    "s2 = myclass.get_year_composite()\n",
    "\n",
    "vizParams = {'bands': ['january', 'november', 'july'], 'min': 0, 'max':0.8}\n",
    "\n",
    "Map.addLayer(s2, vizParams, 'P90')"
   ]
  },
  {
   "cell_type": "markdown",
   "id": "d3d3e41c",
   "metadata": {},
   "source": [
    "Of course, it's possible to use loops to load several data at once"
   ]
  },
  {
   "cell_type": "code",
   "execution_count": null,
   "id": "3c046e23-32c3-48f8-be3c-7d2b1e7273ab",
   "metadata": {},
   "outputs": [],
   "source": [
    "# Here we download a gif for all the years in our class with the selected bands\n",
    "myclass.get_gif(bands=['january', 'november', 'july'])"
   ]
  },
  {
   "cell_type": "code",
   "execution_count": null,
   "id": "7cc7044b",
   "metadata": {},
   "outputs": [],
   "source": [
    "Map = geemap.Map()\n",
    "Map"
   ]
  },
  {
   "cell_type": "code",
   "execution_count": null,
   "id": "3ec9bb01",
   "metadata": {},
   "outputs": [],
   "source": [
    "roi = Map.draw_last_feature"
   ]
  },
  {
   "cell_type": "code",
   "execution_count": null,
   "id": "9ed2c0c6",
   "metadata": {},
   "outputs": [],
   "source": [
    "# Statistics loop\n",
    "\n",
    "stats = ['max', 'median', 'mean', 'perc_90', 'perc_95']\n",
    "vizParams = {'bands': ['march', 'april', 'june'], 'min': 0, 'max':0.8}\n",
    "\n",
    "for i in stats:\n",
    "\n",
    "    myclass = NdviSeasonality(roi=roi, sat='S2', key=i, periods=12,start_year=2020, end_year=2022, index='ndvi')\n",
    "    s2 = myclass.get_year_composite()\n",
    "    Map.addLayer(s2, vizParams, str(i))"
   ]
  },
  {
   "cell_type": "code",
   "execution_count": null,
   "id": "212f9262",
   "metadata": {},
   "outputs": [],
   "source": [
    "# Years loop\n",
    "# Change roi to Doñana deimsID\n",
    "\n",
    "years = [i for i in range(2018, 2023)]\n",
    "\n",
    "vizParams = {'bands': ['march', 'april', 'june'], 'min': 0, 'max':0.8}\n",
    "\n",
    "for y in years:\n",
    "    \n",
    "    name = 'maxNDVI_' + str(y)\n",
    "    myclass = NdviSeasonality(roi=roi, sat='S2', key='perc_90', periods=12,start_year=y, end_year=y+1, index='ndvi')\n",
    "    s2 = myclass.get_year_composite()\n",
    "    Map.addLayer(s2, vizParams, name)"
   ]
  },
  {
   "cell_type": "markdown",
   "id": "3ea5dc40",
   "metadata": {},
   "source": [
    "We could do something bigger. \n",
    "Africa Example with MODIS"
   ]
  },
  {
   "cell_type": "code",
   "execution_count": null,
   "id": "aeb39fff",
   "metadata": {},
   "outputs": [],
   "source": [
    "Map = geemap.Map()\n",
    "Map"
   ]
  },
  {
   "cell_type": "code",
   "execution_count": null,
   "id": "f8e49a7b",
   "metadata": {},
   "outputs": [],
   "source": [
    "import ee\n",
    "countries = ee.FeatureCollection('USDOS/LSIB_SIMPLE/2017').filter(ee.Filter.eq(\"wld_rgn\", \"Africa\"))"
   ]
  },
  {
   "cell_type": "code",
   "execution_count": null,
   "id": "9ede6e4e",
   "metadata": {},
   "outputs": [],
   "source": [
    "# Africa NDVI Mean\n",
    "# Also show Nile delta with S2, take a sight on what you can see over the desert\n",
    "\n",
    "Africa = NdviSeasonality(roi=roi, sat='MODIS', key='mean', periods=4,start_year=2020, end_year=2022, index='ndvi')\n",
    "MODIS = Africa.get_year_composite()\n",
    "\n",
    "vizParams = {'bands': ['summer', 'winter', 'spring'], 'min': 0.1, 'max':0.8}\n",
    "Map.addLayer(MODIS, vizParams, 'S2_P95_24')"
   ]
  },
  {
   "cell_type": "markdown",
   "id": "d7ad97fa",
   "metadata": {},
   "source": [
    "We said deimsPY allows to select your eLTER site qith only using your deimsID, so let's check it out"
   ]
  },
  {
   "cell_type": "code",
   "execution_count": null,
   "id": "b2c5c7ff",
   "metadata": {},
   "outputs": [],
   "source": [
    "Map = geemap.Map()\n",
    "Map"
   ]
  },
  {
   "cell_type": "code",
   "execution_count": null,
   "id": "554dcf8d-97d2-495a-8bde-1819b47eacbd",
   "metadata": {},
   "outputs": [],
   "source": [
    "!pip install deims"
   ]
  },
  {
   "cell_type": "code",
   "execution_count": null,
   "id": "1abdcdb0",
   "metadata": {},
   "outputs": [],
   "source": [
    "# Braila Island Flood\n",
    "\n",
    "myclass = NdviSeasonality(roi='deimsid:https://deims.org/d4854af8-9d9f-42a2-af96-f1ed9cb25712', sat='S2', key='perc_95', periods=12,start_year=2017, end_year=2022, index='ndwi')\n",
    "s2 = myclass.get_year_composite()\n",
    "vizParams = {'bands': ['october', 'june', 'january'], 'min': 0.1, 'max':0.8}\n",
    "Map.addLayer(s2, vizParams, 'Braila Island P95')"
   ]
  },
  {
   "cell_type": "markdown",
   "id": "dc54cc6b",
   "metadata": {},
   "source": [
    "Let's try to get the maximum flood in al januarys"
   ]
  },
  {
   "cell_type": "code",
   "execution_count": null,
   "id": "0cc02df8-10f9-4698-bd7f-22125b6b79d1",
   "metadata": {},
   "outputs": [],
   "source": [
    "myclass.get_export()"
   ]
  },
  {
   "cell_type": "code",
   "execution_count": null,
   "id": "2bcd2105",
   "metadata": {},
   "outputs": [],
   "source": [
    "# Max january flood\n",
    "\n",
    "januaryFloodmax = s2.select('january').max()\n",
    "Map.addLayer(januaryFloodmax, {'min': 0, 'max':0.8}, 'January Max Flood P90')"
   ]
  },
  {
   "cell_type": "code",
   "execution_count": null,
   "id": "08fcefbd",
   "metadata": {
    "scrolled": true
   },
   "outputs": [],
   "source": [
    "Map = geemap.Map()\n",
    "Map"
   ]
  },
  {
   "cell_type": "code",
   "execution_count": null,
   "id": "96375792",
   "metadata": {},
   "outputs": [],
   "source": [
    "roi = Map.draw_last_feature"
   ]
  },
  {
   "cell_type": "code",
   "execution_count": null,
   "id": "da8c4dc1",
   "metadata": {},
   "outputs": [],
   "source": [
    "# Doñana NDVI Stats\n",
    "myclass = NdviSeasonality(roi='deimsid:https://deims.org/bcbc866c-3f4f-47a8-bbbc-0a93df6de7b2', sat='Landsat', \n",
    "                          key='max', periods=12,start_year=2019, end_year=2020, index='ndvi')\n",
    "Landsat = myclass.get_year_composite()\n",
    "vizParams = {'bands': ['january', 'april', 'september'], 'min': 0.1, 'max':0.8}\n",
    "\n",
    "Map.addLayer(Landsat, vizParams, 'Max')"
   ]
  },
  {
   "cell_type": "markdown",
   "id": "42ac38ae",
   "metadata": {},
   "source": [
    "We can also have zonal statistic"
   ]
  },
  {
   "cell_type": "code",
   "execution_count": null,
   "id": "ab9b1f3e",
   "metadata": {},
   "outputs": [],
   "source": [
    "# Points and polygons zonal stats\n",
    "\n",
    "import os\n",
    "\n",
    "# This is a Google Earth Engine Feature Collection\n",
    "alcornoques = ee.FeatureCollection('users/digdgeografo/pajarera')\n",
    "\n",
    "# This is a local point shapefile\n",
    "samples = '/home/diego/samples.shp'\n",
    "geom = geemap.shp_to_ee(samples)\n",
    "\n",
    "# Define the ouptut shape\n",
    "out_shp = os.path.join(os.getcwd(), 'mystatstets_oaks.shp')\n",
    "\n",
    "# Compute the statistics\n",
    "geemap.zonal_statistics(Landsat, in_zone_vector=alcornoques, out_file_path=out_shp, statistics_type='MEAN', scale=30)"
   ]
  },
  {
   "cell_type": "markdown",
   "id": "5fa37f09",
   "metadata": {},
   "source": [
    "It is also possible to export the collections. There's a problem qith size limits from GEE but small areas are ok"
   ]
  },
  {
   "cell_type": "code",
   "execution_count": null,
   "id": "6930189b",
   "metadata": {},
   "outputs": [],
   "source": [
    "# Take a smaller roi\n",
    "\n",
    "roi = Map.draw_last_feature"
   ]
  },
  {
   "cell_type": "code",
   "execution_count": null,
   "id": "ee1bcef1",
   "metadata": {},
   "outputs": [],
   "source": [
    "# Here we select ndwi max for 12 periods seasons in Andalucia\n",
    "\n",
    "myclass = NdviSeasonality(roi=roi, sat='Landsat', key='max', periods=12,start_year=2017, end_year=2020, index='ndvi')\n",
    "Landsat = myclass.get_year_composite()\n",
    "vizParams = {'bands': ['january', 'april', 'september'], 'min': 0.1, 'max':0.8}\n",
    "\n",
    "Map.addLayer(Landsat, vizParams, 'Max')"
   ]
  },
  {
   "cell_type": "code",
   "execution_count": null,
   "id": "d058607a",
   "metadata": {},
   "outputs": [],
   "source": [
    "# Export it and load the data in QGIS\n",
    "\n",
    "myclass.get_export()"
   ]
  },
  {
   "cell_type": "code",
   "execution_count": null,
   "id": "c561b381",
   "metadata": {
    "scrolled": true
   },
   "outputs": [],
   "source": [
    "Map = geemap.Map()\n",
    "Map"
   ]
  },
  {
   "cell_type": "code",
   "execution_count": null,
   "id": "a9586229",
   "metadata": {},
   "outputs": [],
   "source": [
    "roi = Map.draw_last_feature"
   ]
  },
  {
   "cell_type": "code",
   "execution_count": null,
   "id": "bf678deb",
   "metadata": {},
   "outputs": [],
   "source": [
    "# Last but not least and exaample of Sierra Nevada NDSI\n",
    "\n",
    "myclass = NdviSeasonality(roi=roi, sat='S2', key='median',\n",
    "                          periods=12,start_year=2020, end_year=2022, index='ndsi')\n",
    "s2 = myclass.get_year_composite()\n",
    "\n",
    "vizParams = {'bands': ['january', 'february', 'march'], 'min': 0, 'max':0.8}\n",
    "Map.addLayer(s2, vizParams, 'S2_MAX_Sierra Nevada')"
   ]
  }
 ],
 "metadata": {
  "hide_input": false,
  "kernelspec": {
   "display_name": "Python 3 (ipykernel)",
   "language": "python",
   "name": "python3"
  },
  "language_info": {
   "codemirror_mode": {
    "name": "ipython",
    "version": 3
   },
   "file_extension": ".py",
   "mimetype": "text/x-python",
   "name": "python",
   "nbconvert_exporter": "python",
   "pygments_lexer": "ipython3",
   "version": "3.10.12"
  },
  "toc": {
   "base_numbering": 1,
   "nav_menu": {},
   "number_sections": true,
   "sideBar": true,
   "skip_h1_title": false,
   "title_cell": "Table of Contents",
   "title_sidebar": "Contents",
   "toc_cell": false,
   "toc_position": {},
   "toc_section_display": true,
   "toc_window_display": false
  },
  "varInspector": {
   "cols": {
    "lenName": 16,
    "lenType": 16,
    "lenVar": 40
   },
   "kernels_config": {
    "python": {
     "delete_cmd_postfix": "",
     "delete_cmd_prefix": "del ",
     "library": "var_list.py",
     "varRefreshCmd": "print(var_dic_list())"
    },
    "r": {
     "delete_cmd_postfix": ") ",
     "delete_cmd_prefix": "rm(",
     "library": "var_list.r",
     "varRefreshCmd": "cat(var_dic_list()) "
    }
   },
   "types_to_exclude": [
    "module",
    "function",
    "builtin_function_or_method",
    "instance",
    "_Feature"
   ],
   "window_display": false
  }
 },
 "nbformat": 4,
 "nbformat_minor": 5
}
