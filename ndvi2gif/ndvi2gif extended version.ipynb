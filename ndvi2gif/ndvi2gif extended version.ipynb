{
 "cells": [
  {
   "cell_type": "code",
   "execution_count": null,
   "id": "d880cfef",
   "metadata": {
    "scrolled": true
   },
   "outputs": [],
   "source": [
    "#!pip install geemap\n",
    "#!pip install ndvi2gif\n",
    "!pip show shapely"
   ]
  },
  {
   "cell_type": "code",
   "execution_count": 1,
   "id": "68cd020b",
   "metadata": {},
   "outputs": [],
   "source": [
    "import geemap\n",
    "import ee\n",
    "from ndvi2gif import NdviSeasonality"
   ]
  },
  {
   "cell_type": "code",
   "execution_count": 2,
   "id": "3670d888",
   "metadata": {},
   "outputs": [
    {
     "data": {
      "text/html": [
       "\n",
       "            <style>\n",
       "                .geemap-dark {\n",
       "                    --jp-widgets-color: white;\n",
       "                    --jp-widgets-label-color: white;\n",
       "                    --jp-ui-font-color1: white;\n",
       "                    --jp-layout-color2: #454545;\n",
       "                    background-color: #383838;\n",
       "                }\n",
       "                    \n",
       "                .geemap-dark .jupyter-button {\n",
       "                    --jp-layout-color3: #383838;\n",
       "                }\n",
       "                \n",
       "                .geemap-colab {\n",
       "                    background-color: var(--colab-primary-surface-color, white);\n",
       "                }\n",
       "                    \n",
       "                .geemap-colab .jupyter-button {\n",
       "                    --jp-layout-color3: var(--colab-primary-surface-color, white);\n",
       "                }\n",
       "            </style>\n",
       "            "
      ],
      "text/plain": [
       "<IPython.core.display.HTML object>"
      ]
     },
     "metadata": {},
     "output_type": "display_data"
    },
    {
     "data": {
      "application/vnd.jupyter.widget-view+json": {
       "model_id": "e36b1d80f4594929a12178001ac2181a",
       "version_major": 2,
       "version_minor": 0
      },
      "text/plain": [
       "Map(center=[0, 0], controls=(WidgetControl(options=['position', 'transparent_bg'], widget=SearchDataGUI(childr…"
      ]
     },
     "execution_count": 2,
     "metadata": {},
     "output_type": "execute_result"
    }
   ],
   "source": [
    "Map = geemap.Map()\n",
    "Map"
   ]
  },
  {
   "cell_type": "markdown",
   "id": "bbfc4ef9",
   "metadata": {},
   "source": [
    "We utilize the map drawing tools to create a roi"
   ]
  },
  {
   "cell_type": "code",
   "execution_count": null,
   "id": "cd61f4ad",
   "metadata": {},
   "outputs": [],
   "source": [
    "roi = Map.draw_last_feature"
   ]
  },
  {
   "cell_type": "code",
   "execution_count": null,
   "id": "00c2c58d-17f3-4da9-a151-4c9d0730c825",
   "metadata": {},
   "outputs": [],
   "source": [
    "s = NdviSeasonality(roi=\"s2:29SQA\", start_year=2022, end_year=2022, sat=\"Landsat\")\n",
    "print(s.roi.getInfo())"
   ]
  },
  {
   "cell_type": "code",
   "execution_count": 6,
   "id": "d3ddc0de",
   "metadata": {},
   "outputs": [
    {
     "data": {
      "text/html": [
       "\n",
       "            <style>\n",
       "                .geemap-dark {\n",
       "                    --jp-widgets-color: white;\n",
       "                    --jp-widgets-label-color: white;\n",
       "                    --jp-ui-font-color1: white;\n",
       "                    --jp-layout-color2: #454545;\n",
       "                    background-color: #383838;\n",
       "                }\n",
       "                    \n",
       "                .geemap-dark .jupyter-button {\n",
       "                    --jp-layout-color3: #383838;\n",
       "                }\n",
       "                \n",
       "                .geemap-colab {\n",
       "                    background-color: var(--colab-primary-surface-color, white);\n",
       "                }\n",
       "                    \n",
       "                .geemap-colab .jupyter-button {\n",
       "                    --jp-layout-color3: var(--colab-primary-surface-color, white);\n",
       "                }\n",
       "            </style>\n",
       "            "
      ],
      "text/plain": [
       "<IPython.core.display.HTML object>"
      ]
     },
     "metadata": {},
     "output_type": "display_data"
    },
    {
     "name": "stdout",
     "output_type": "stream",
     "text": [
      "There we go again...\n",
      "Loading Sentinel-2 MGRS tile from GitHub...\n",
      "Found Sentinel-2 tile for 29SQA\n",
      "Could not convert the geojson to ee.Geometry()\n"
     ]
    },
    {
     "ename": "Exception",
     "evalue": "Invalid GeoJSON geometry.",
     "output_type": "error",
     "traceback": [
      "\u001b[0;31m---------------------------------------------------------------------------\u001b[0m",
      "\u001b[0;31mEEException\u001b[0m                               Traceback (most recent call last)",
      "File \u001b[0;32m~/.local/lib/python3.10/site-packages/geemap/common.py:2731\u001b[0m, in \u001b[0;36mgeojson_to_ee\u001b[0;34m(geo_json, geodesic, encoding)\u001b[0m\n\u001b[1;32m   2730\u001b[0m         feature[\u001b[38;5;124m\"\u001b[39m\u001b[38;5;124mgeometry\u001b[39m\u001b[38;5;124m\"\u001b[39m][\u001b[38;5;124m\"\u001b[39m\u001b[38;5;124mgeodesic\u001b[39m\u001b[38;5;124m\"\u001b[39m] \u001b[38;5;241m=\u001b[39m geodesic\n\u001b[0;32m-> 2731\u001b[0m features \u001b[38;5;241m=\u001b[39m \u001b[43mee\u001b[49m\u001b[38;5;241;43m.\u001b[39;49m\u001b[43mFeatureCollection\u001b[49m\u001b[43m(\u001b[49m\u001b[43mgeo_json\u001b[49m\u001b[43m)\u001b[49m\n\u001b[1;32m   2732\u001b[0m \u001b[38;5;28;01mreturn\u001b[39;00m features\n",
      "File \u001b[0;32m~/.local/lib/python3.10/site-packages/ee/computedobject.py:28\u001b[0m, in \u001b[0;36mComputedObjectMetaclass.__call__\u001b[0;34m(cls, *args, **kwargs)\u001b[0m\n\u001b[1;32m     27\u001b[0m \u001b[38;5;28;01melse\u001b[39;00m:\n\u001b[0;32m---> 28\u001b[0m   \u001b[38;5;28;01mreturn\u001b[39;00m \u001b[38;5;28;43mtype\u001b[39;49m\u001b[38;5;241;43m.\u001b[39;49m\u001b[38;5;21;43m__call__\u001b[39;49m\u001b[43m(\u001b[49m\u001b[38;5;28;43mcls\u001b[39;49m\u001b[43m,\u001b[49m\u001b[43m \u001b[49m\u001b[38;5;241;43m*\u001b[39;49m\u001b[43margs\u001b[49m\u001b[43m,\u001b[49m\u001b[43m \u001b[49m\u001b[38;5;241;43m*\u001b[39;49m\u001b[38;5;241;43m*\u001b[39;49m\u001b[43mkwargs\u001b[49m\u001b[43m)\u001b[49m\n",
      "File \u001b[0;32m~/.local/lib/python3.10/site-packages/ee/_utils.py:38\u001b[0m, in \u001b[0;36maccept_opt_prefix.<locals>.opt_fixed.<locals>.wrapper\u001b[0;34m(*args, **kwargs)\u001b[0m\n\u001b[1;32m     37\u001b[0m       kwargs[new_key] \u001b[38;5;241m=\u001b[39m old_key_val\n\u001b[0;32m---> 38\u001b[0m \u001b[38;5;28;01mreturn\u001b[39;00m \u001b[43mfunc\u001b[49m\u001b[43m(\u001b[49m\u001b[38;5;241;43m*\u001b[39;49m\u001b[43margs\u001b[49m\u001b[43m,\u001b[49m\u001b[43m \u001b[49m\u001b[38;5;241;43m*\u001b[39;49m\u001b[38;5;241;43m*\u001b[39;49m\u001b[43mkwargs\u001b[49m\u001b[43m)\u001b[49m\n",
      "File \u001b[0;32m~/.local/lib/python3.10/site-packages/ee/deprecation.py:124\u001b[0m, in \u001b[0;36mWarnForDeprecatedAsset.<locals>.Decorator.<locals>.Wrapper\u001b[0;34m(*args, **kwargs)\u001b[0m\n\u001b[1;32m    123\u001b[0m     _IssueAssetDeprecationWarning(asset)\n\u001b[0;32m--> 124\u001b[0m \u001b[38;5;28;01mreturn\u001b[39;00m \u001b[43mfunc\u001b[49m\u001b[43m(\u001b[49m\u001b[38;5;241;43m*\u001b[39;49m\u001b[43margs\u001b[49m\u001b[43m,\u001b[49m\u001b[43m \u001b[49m\u001b[38;5;241;43m*\u001b[39;49m\u001b[38;5;241;43m*\u001b[39;49m\u001b[43mkwargs\u001b[49m\u001b[43m)\u001b[49m\n",
      "File \u001b[0;32m~/.local/lib/python3.10/site-packages/ee/featurecollection.py:93\u001b[0m, in \u001b[0;36mFeatureCollection.__init__\u001b[0;34m(self, args, column)\u001b[0m\n\u001b[1;32m     89\u001b[0m \u001b[38;5;28;01melif\u001b[39;00m \u001b[38;5;28misinstance\u001b[39m(args, \u001b[38;5;28mdict\u001b[39m) \u001b[38;5;129;01mand\u001b[39;00m args\u001b[38;5;241m.\u001b[39mget(\u001b[38;5;124m'\u001b[39m\u001b[38;5;124mtype\u001b[39m\u001b[38;5;124m'\u001b[39m) \u001b[38;5;241m==\u001b[39m \u001b[38;5;28mself\u001b[39m\u001b[38;5;241m.\u001b[39mname():\n\u001b[1;32m     90\u001b[0m   \u001b[38;5;66;03m# A GeoJSON FeatureCollection\u001b[39;00m\n\u001b[1;32m     91\u001b[0m   \u001b[38;5;28msuper\u001b[39m()\u001b[38;5;241m.\u001b[39m\u001b[38;5;21m__init__\u001b[39m(\n\u001b[1;32m     92\u001b[0m       apifunction\u001b[38;5;241m.\u001b[39mApiFunction\u001b[38;5;241m.\u001b[39mlookup(\u001b[38;5;124m'\u001b[39m\u001b[38;5;124mCollection\u001b[39m\u001b[38;5;124m'\u001b[39m),\n\u001b[0;32m---> 93\u001b[0m       {\u001b[38;5;124m'\u001b[39m\u001b[38;5;124mfeatures\u001b[39m\u001b[38;5;124m'\u001b[39m: [feature\u001b[38;5;241m.\u001b[39mFeature(i) \u001b[38;5;28;01mfor\u001b[39;00m i \u001b[38;5;129;01min\u001b[39;00m args\u001b[38;5;241m.\u001b[39mget(\u001b[38;5;124m'\u001b[39m\u001b[38;5;124mfeatures\u001b[39m\u001b[38;5;124m'\u001b[39m, [])]})\n\u001b[1;32m     94\u001b[0m \u001b[38;5;28;01melif\u001b[39;00m \u001b[38;5;28misinstance\u001b[39m(args, computedobject\u001b[38;5;241m.\u001b[39mComputedObject):\n\u001b[1;32m     95\u001b[0m   \u001b[38;5;66;03m# A custom object to reinterpret as a FeatureCollection.\u001b[39;00m\n",
      "File \u001b[0;32m~/.local/lib/python3.10/site-packages/ee/featurecollection.py:93\u001b[0m, in \u001b[0;36m<listcomp>\u001b[0;34m(.0)\u001b[0m\n\u001b[1;32m     89\u001b[0m \u001b[38;5;28;01melif\u001b[39;00m \u001b[38;5;28misinstance\u001b[39m(args, \u001b[38;5;28mdict\u001b[39m) \u001b[38;5;129;01mand\u001b[39;00m args\u001b[38;5;241m.\u001b[39mget(\u001b[38;5;124m'\u001b[39m\u001b[38;5;124mtype\u001b[39m\u001b[38;5;124m'\u001b[39m) \u001b[38;5;241m==\u001b[39m \u001b[38;5;28mself\u001b[39m\u001b[38;5;241m.\u001b[39mname():\n\u001b[1;32m     90\u001b[0m   \u001b[38;5;66;03m# A GeoJSON FeatureCollection\u001b[39;00m\n\u001b[1;32m     91\u001b[0m   \u001b[38;5;28msuper\u001b[39m()\u001b[38;5;241m.\u001b[39m\u001b[38;5;21m__init__\u001b[39m(\n\u001b[1;32m     92\u001b[0m       apifunction\u001b[38;5;241m.\u001b[39mApiFunction\u001b[38;5;241m.\u001b[39mlookup(\u001b[38;5;124m'\u001b[39m\u001b[38;5;124mCollection\u001b[39m\u001b[38;5;124m'\u001b[39m),\n\u001b[0;32m---> 93\u001b[0m       {\u001b[38;5;124m'\u001b[39m\u001b[38;5;124mfeatures\u001b[39m\u001b[38;5;124m'\u001b[39m: [\u001b[43mfeature\u001b[49m\u001b[38;5;241;43m.\u001b[39;49m\u001b[43mFeature\u001b[49m\u001b[43m(\u001b[49m\u001b[43mi\u001b[49m\u001b[43m)\u001b[49m \u001b[38;5;28;01mfor\u001b[39;00m i \u001b[38;5;129;01min\u001b[39;00m args\u001b[38;5;241m.\u001b[39mget(\u001b[38;5;124m'\u001b[39m\u001b[38;5;124mfeatures\u001b[39m\u001b[38;5;124m'\u001b[39m, [])]})\n\u001b[1;32m     94\u001b[0m \u001b[38;5;28;01melif\u001b[39;00m \u001b[38;5;28misinstance\u001b[39m(args, computedobject\u001b[38;5;241m.\u001b[39mComputedObject):\n\u001b[1;32m     95\u001b[0m   \u001b[38;5;66;03m# A custom object to reinterpret as a FeatureCollection.\u001b[39;00m\n",
      "File \u001b[0;32m~/.local/lib/python3.10/site-packages/ee/computedobject.py:28\u001b[0m, in \u001b[0;36mComputedObjectMetaclass.__call__\u001b[0;34m(cls, *args, **kwargs)\u001b[0m\n\u001b[1;32m     27\u001b[0m \u001b[38;5;28;01melse\u001b[39;00m:\n\u001b[0;32m---> 28\u001b[0m   \u001b[38;5;28;01mreturn\u001b[39;00m \u001b[38;5;28;43mtype\u001b[39;49m\u001b[38;5;241;43m.\u001b[39;49m\u001b[38;5;21;43m__call__\u001b[39;49m\u001b[43m(\u001b[49m\u001b[38;5;28;43mcls\u001b[39;49m\u001b[43m,\u001b[49m\u001b[43m \u001b[49m\u001b[38;5;241;43m*\u001b[39;49m\u001b[43margs\u001b[49m\u001b[43m,\u001b[49m\u001b[43m \u001b[49m\u001b[38;5;241;43m*\u001b[39;49m\u001b[38;5;241;43m*\u001b[39;49m\u001b[43mkwargs\u001b[49m\u001b[43m)\u001b[49m\n",
      "File \u001b[0;32m~/.local/lib/python3.10/site-packages/ee/_utils.py:38\u001b[0m, in \u001b[0;36maccept_opt_prefix.<locals>.opt_fixed.<locals>.wrapper\u001b[0;34m(*args, **kwargs)\u001b[0m\n\u001b[1;32m     37\u001b[0m       kwargs[new_key] \u001b[38;5;241m=\u001b[39m old_key_val\n\u001b[0;32m---> 38\u001b[0m \u001b[38;5;28;01mreturn\u001b[39;00m \u001b[43mfunc\u001b[49m\u001b[43m(\u001b[49m\u001b[38;5;241;43m*\u001b[39;49m\u001b[43margs\u001b[49m\u001b[43m,\u001b[49m\u001b[43m \u001b[49m\u001b[38;5;241;43m*\u001b[39;49m\u001b[38;5;241;43m*\u001b[39;49m\u001b[43mkwargs\u001b[49m\u001b[43m)\u001b[49m\n",
      "File \u001b[0;32m~/.local/lib/python3.10/site-packages/ee/feature.py:85\u001b[0m, in \u001b[0;36mFeature.__init__\u001b[0;34m(self, geom, properties)\u001b[0m\n\u001b[1;32m     83\u001b[0m   \u001b[38;5;66;03m# Try to convert a GeoJSON Feature.\u001b[39;00m\n\u001b[1;32m     84\u001b[0m   \u001b[38;5;28msuper\u001b[39m()\u001b[38;5;241m.\u001b[39m\u001b[38;5;21m__init__\u001b[39m(feature_constructor, {\n\u001b[0;32m---> 85\u001b[0m       \u001b[38;5;124m'\u001b[39m\u001b[38;5;124mgeometry\u001b[39m\u001b[38;5;124m'\u001b[39m: \u001b[43mgeometry\u001b[49m\u001b[38;5;241;43m.\u001b[39;49m\u001b[43mGeometry\u001b[49m\u001b[43m(\u001b[49m\u001b[43mgeom\u001b[49m\u001b[38;5;241;43m.\u001b[39;49m\u001b[43mget\u001b[49m\u001b[43m(\u001b[49m\u001b[38;5;124;43m'\u001b[39;49m\u001b[38;5;124;43mgeometry\u001b[39;49m\u001b[38;5;124;43m'\u001b[39;49m\u001b[43m,\u001b[49m\u001b[43m \u001b[49m\u001b[38;5;28;43;01mNone\u001b[39;49;00m\u001b[43m)\u001b[49m\u001b[43m)\u001b[49m,\n\u001b[1;32m     86\u001b[0m       \u001b[38;5;124m'\u001b[39m\u001b[38;5;124mmetadata\u001b[39m\u001b[38;5;124m'\u001b[39m: properties\n\u001b[1;32m     87\u001b[0m   })\n\u001b[1;32m     88\u001b[0m \u001b[38;5;28;01melse\u001b[39;00m:\n\u001b[1;32m     89\u001b[0m   \u001b[38;5;66;03m# Try to convert the geometry arg to a Geometry, in the hopes of it\u001b[39;00m\n\u001b[1;32m     90\u001b[0m   \u001b[38;5;66;03m# turning out to be GeoJSON.\u001b[39;00m\n",
      "File \u001b[0;32m~/.local/lib/python3.10/site-packages/ee/computedobject.py:28\u001b[0m, in \u001b[0;36mComputedObjectMetaclass.__call__\u001b[0;34m(cls, *args, **kwargs)\u001b[0m\n\u001b[1;32m     27\u001b[0m \u001b[38;5;28;01melse\u001b[39;00m:\n\u001b[0;32m---> 28\u001b[0m   \u001b[38;5;28;01mreturn\u001b[39;00m \u001b[38;5;28;43mtype\u001b[39;49m\u001b[38;5;241;43m.\u001b[39;49m\u001b[38;5;21;43m__call__\u001b[39;49m\u001b[43m(\u001b[49m\u001b[38;5;28;43mcls\u001b[39;49m\u001b[43m,\u001b[49m\u001b[43m \u001b[49m\u001b[38;5;241;43m*\u001b[39;49m\u001b[43margs\u001b[49m\u001b[43m,\u001b[49m\u001b[43m \u001b[49m\u001b[38;5;241;43m*\u001b[39;49m\u001b[38;5;241;43m*\u001b[39;49m\u001b[43mkwargs\u001b[49m\u001b[43m)\u001b[49m\n",
      "File \u001b[0;32m~/.local/lib/python3.10/site-packages/ee/_utils.py:38\u001b[0m, in \u001b[0;36maccept_opt_prefix.<locals>.opt_fixed.<locals>.wrapper\u001b[0;34m(*args, **kwargs)\u001b[0m\n\u001b[1;32m     37\u001b[0m       kwargs[new_key] \u001b[38;5;241m=\u001b[39m old_key_val\n\u001b[0;32m---> 38\u001b[0m \u001b[38;5;28;01mreturn\u001b[39;00m \u001b[43mfunc\u001b[49m\u001b[43m(\u001b[49m\u001b[38;5;241;43m*\u001b[39;49m\u001b[43margs\u001b[49m\u001b[43m,\u001b[49m\u001b[43m \u001b[49m\u001b[38;5;241;43m*\u001b[39;49m\u001b[38;5;241;43m*\u001b[39;49m\u001b[43mkwargs\u001b[49m\u001b[43m)\u001b[49m\n",
      "File \u001b[0;32m~/.local/lib/python3.10/site-packages/ee/geometry.py:84\u001b[0m, in \u001b[0;36mGeometry.__init__\u001b[0;34m(self, geo_json, proj, geodesic, evenOdd)\u001b[0m\n\u001b[1;32m     83\u001b[0m \u001b[38;5;28;01mif\u001b[39;00m \u001b[38;5;129;01mnot\u001b[39;00m Geometry\u001b[38;5;241m.\u001b[39m_isValidGeometry(geo_json):\n\u001b[0;32m---> 84\u001b[0m   \u001b[38;5;28;01mraise\u001b[39;00m ee_exception\u001b[38;5;241m.\u001b[39mEEException(\u001b[38;5;124m'\u001b[39m\u001b[38;5;124mInvalid GeoJSON geometry.\u001b[39m\u001b[38;5;124m'\u001b[39m)\n\u001b[1;32m     86\u001b[0m \u001b[38;5;28msuper\u001b[39m()\u001b[38;5;241m.\u001b[39m\u001b[38;5;21m__init__\u001b[39m(\u001b[38;5;28;01mNone\u001b[39;00m, \u001b[38;5;28;01mNone\u001b[39;00m)\n",
      "\u001b[0;31mEEException\u001b[0m: Invalid GeoJSON geometry.",
      "\nDuring handling of the above exception, another exception occurred:\n",
      "\u001b[0;31mException\u001b[0m                                 Traceback (most recent call last)",
      "\u001b[0;32m/tmp/ipykernel_30207/86184285.py\u001b[0m in \u001b[0;36m?\u001b[0;34m()\u001b[0m\n\u001b[1;32m      1\u001b[0m \u001b[0;31m# Here we select ndwi max for 12 periods seasons in Andalucia\u001b[0m\u001b[0;34m\u001b[0m\u001b[0;34m\u001b[0m\u001b[0m\n\u001b[0;32m----> 2\u001b[0;31m \u001b[0mmyclass\u001b[0m \u001b[0;34m=\u001b[0m \u001b[0mNdviSeasonality\u001b[0m\u001b[0;34m(\u001b[0m\u001b[0mroi\u001b[0m\u001b[0;34m=\u001b[0m\u001b[0;34m\"s2:29SQA\"\u001b[0m\u001b[0;34m,\u001b[0m \u001b[0msat\u001b[0m\u001b[0;34m=\u001b[0m\u001b[0;34m'S2'\u001b[0m\u001b[0;34m,\u001b[0m \u001b[0mkey\u001b[0m\u001b[0;34m=\u001b[0m\u001b[0;34m'perc_95'\u001b[0m\u001b[0;34m,\u001b[0m \u001b[0mperiods\u001b[0m\u001b[0;34m=\u001b[0m\u001b[0;36m4\u001b[0m\u001b[0;34m,\u001b[0m\u001b[0mstart_year\u001b[0m\u001b[0;34m=\u001b[0m\u001b[0;36m2017\u001b[0m\u001b[0;34m,\u001b[0m \u001b[0mend_year\u001b[0m\u001b[0;34m=\u001b[0m\u001b[0;36m2024\u001b[0m\u001b[0;34m,\u001b[0m \u001b[0mindex\u001b[0m\u001b[0;34m=\u001b[0m\u001b[0;34m'ndvi'\u001b[0m\u001b[0;34m)\u001b[0m\u001b[0;34m\u001b[0m\u001b[0;34m\u001b[0m\u001b[0m\n\u001b[0m\u001b[1;32m      3\u001b[0m \u001b[0ms2\u001b[0m \u001b[0;34m=\u001b[0m \u001b[0mmyclass\u001b[0m\u001b[0;34m.\u001b[0m\u001b[0mget_year_composite\u001b[0m\u001b[0;34m(\u001b[0m\u001b[0;34m)\u001b[0m\u001b[0;34m\u001b[0m\u001b[0;34m\u001b[0m\u001b[0m\n\u001b[1;32m      4\u001b[0m \u001b[0;34m\u001b[0m\u001b[0m\n\u001b[1;32m      5\u001b[0m \u001b[0mvizParams\u001b[0m \u001b[0;34m=\u001b[0m \u001b[0;34m{\u001b[0m\u001b[0;34m'bands'\u001b[0m\u001b[0;34m:\u001b[0m \u001b[0;34m[\u001b[0m\u001b[0;34m'winter'\u001b[0m\u001b[0;34m,\u001b[0m \u001b[0;34m'spring'\u001b[0m\u001b[0;34m,\u001b[0m \u001b[0;34m'summer'\u001b[0m\u001b[0;34m]\u001b[0m\u001b[0;34m,\u001b[0m \u001b[0;34m'min'\u001b[0m\u001b[0;34m:\u001b[0m \u001b[0;36m0\u001b[0m\u001b[0;34m,\u001b[0m \u001b[0;34m'max'\u001b[0m\u001b[0;34m:\u001b[0m\u001b[0;36m0.8\u001b[0m\u001b[0;34m}\u001b[0m\u001b[0;34m\u001b[0m\u001b[0;34m\u001b[0m\u001b[0m\n",
      "\u001b[0;32m~/git/Ndvi2Gif/ndvi2gif/ndvi2gif.py\u001b[0m in \u001b[0;36m?\u001b[0;34m(self, roi, periods, start_year, end_year, sat, key, index)\u001b[0m\n\u001b[1;32m     90\u001b[0m                 \u001b[0;32mif\u001b[0m \u001b[0msubset\u001b[0m\u001b[0;34m.\u001b[0m\u001b[0mempty\u001b[0m\u001b[0;34m:\u001b[0m\u001b[0;34m\u001b[0m\u001b[0;34m\u001b[0m\u001b[0m\n\u001b[1;32m     91\u001b[0m                     \u001b[0;32mraise\u001b[0m \u001b[0mValueError\u001b[0m\u001b[0;34m(\u001b[0m\u001b[0;34mf\"No geometry found for Sentinel-2 tile {tile_id}\"\u001b[0m\u001b[0;34m)\u001b[0m\u001b[0;34m\u001b[0m\u001b[0;34m\u001b[0m\u001b[0m\n\u001b[1;32m     92\u001b[0m \u001b[0;34m\u001b[0m\u001b[0m\n\u001b[1;32m     93\u001b[0m                 \u001b[0mprint\u001b[0m\u001b[0;34m(\u001b[0m\u001b[0;34mf'Found Sentinel-2 tile for {tile_id}'\u001b[0m\u001b[0;34m)\u001b[0m\u001b[0;34m\u001b[0m\u001b[0;34m\u001b[0m\u001b[0m\n\u001b[0;32m---> 94\u001b[0;31m                 \u001b[0mself\u001b[0m\u001b[0;34m.\u001b[0m\u001b[0mroi\u001b[0m \u001b[0;34m=\u001b[0m \u001b[0mgeemap\u001b[0m\u001b[0;34m.\u001b[0m\u001b[0mgeopandas_to_ee\u001b[0m\u001b[0;34m(\u001b[0m\u001b[0msubset\u001b[0m\u001b[0;34m)\u001b[0m\u001b[0;34m\u001b[0m\u001b[0;34m\u001b[0m\u001b[0m\n\u001b[0m\u001b[1;32m     95\u001b[0m \u001b[0;34m\u001b[0m\u001b[0m\n\u001b[1;32m     96\u001b[0m             \u001b[0;32melse\u001b[0m\u001b[0;34m:\u001b[0m\u001b[0;34m\u001b[0m\u001b[0;34m\u001b[0m\u001b[0m\n\u001b[1;32m     97\u001b[0m                 print('It seems that your ROI path is invalid.\\n\\nAccepted formats:\\n'\n",
      "\u001b[0;32m~/.local/lib/python3.10/site-packages/geemap/common.py\u001b[0m in \u001b[0;36m?\u001b[0;34m(gdf, geodesic, date, date_format)\u001b[0m\n\u001b[1;32m   9109\u001b[0m     \u001b[0mout_json\u001b[0m \u001b[0;34m=\u001b[0m \u001b[0mos\u001b[0m\u001b[0;34m.\u001b[0m\u001b[0mpath\u001b[0m\u001b[0;34m.\u001b[0m\u001b[0mjoin\u001b[0m\u001b[0;34m(\u001b[0m\u001b[0mos\u001b[0m\u001b[0;34m.\u001b[0m\u001b[0mgetcwd\u001b[0m\u001b[0;34m(\u001b[0m\u001b[0;34m)\u001b[0m\u001b[0;34m,\u001b[0m \u001b[0mrandom_string\u001b[0m\u001b[0;34m(\u001b[0m\u001b[0;36m6\u001b[0m\u001b[0;34m)\u001b[0m \u001b[0;34m+\u001b[0m \u001b[0;34m\".geojson\"\u001b[0m\u001b[0;34m)\u001b[0m\u001b[0;34m\u001b[0m\u001b[0;34m\u001b[0m\u001b[0m\n\u001b[1;32m   9110\u001b[0m     \u001b[0mgdf\u001b[0m \u001b[0;34m=\u001b[0m \u001b[0mgdf\u001b[0m\u001b[0;34m.\u001b[0m\u001b[0mto_crs\u001b[0m\u001b[0;34m(\u001b[0m\u001b[0;36m4326\u001b[0m\u001b[0;34m)\u001b[0m\u001b[0;34m\u001b[0m\u001b[0;34m\u001b[0m\u001b[0m\n\u001b[1;32m   9111\u001b[0m     \u001b[0mgdf\u001b[0m\u001b[0;34m.\u001b[0m\u001b[0mto_file\u001b[0m\u001b[0;34m(\u001b[0m\u001b[0mout_json\u001b[0m\u001b[0;34m,\u001b[0m \u001b[0mdriver\u001b[0m\u001b[0;34m=\u001b[0m\u001b[0;34m\"GeoJSON\"\u001b[0m\u001b[0;34m)\u001b[0m\u001b[0;34m\u001b[0m\u001b[0;34m\u001b[0m\u001b[0m\n\u001b[1;32m   9112\u001b[0m \u001b[0;34m\u001b[0m\u001b[0m\n\u001b[0;32m-> 9113\u001b[0;31m     \u001b[0mfc\u001b[0m \u001b[0;34m=\u001b[0m \u001b[0mgeojson_to_ee\u001b[0m\u001b[0;34m(\u001b[0m\u001b[0mout_json\u001b[0m\u001b[0;34m,\u001b[0m \u001b[0mgeodesic\u001b[0m\u001b[0;34m=\u001b[0m\u001b[0mgeodesic\u001b[0m\u001b[0;34m)\u001b[0m\u001b[0;34m\u001b[0m\u001b[0;34m\u001b[0m\u001b[0m\n\u001b[0m\u001b[1;32m   9114\u001b[0m \u001b[0;34m\u001b[0m\u001b[0m\n\u001b[1;32m   9115\u001b[0m     \u001b[0;32mif\u001b[0m \u001b[0mdate\u001b[0m \u001b[0;32mis\u001b[0m \u001b[0;32mnot\u001b[0m \u001b[0;32mNone\u001b[0m\u001b[0;34m:\u001b[0m\u001b[0;34m\u001b[0m\u001b[0;34m\u001b[0m\u001b[0m\n\u001b[1;32m   9116\u001b[0m         \u001b[0;32mtry\u001b[0m\u001b[0;34m:\u001b[0m\u001b[0;34m\u001b[0m\u001b[0;34m\u001b[0m\u001b[0m\n",
      "\u001b[0;32m~/.local/lib/python3.10/site-packages/geemap/common.py\u001b[0m in \u001b[0;36m?\u001b[0;34m(geo_json, geodesic, encoding)\u001b[0m\n\u001b[1;32m   2756\u001b[0m             \u001b[0;32mraise\u001b[0m \u001b[0mException\u001b[0m\u001b[0;34m(\u001b[0m\u001b[0;34m\"Could not convert the geojson to ee.Geometry()\"\u001b[0m\u001b[0;34m)\u001b[0m\u001b[0;34m\u001b[0m\u001b[0;34m\u001b[0m\u001b[0m\n\u001b[1;32m   2757\u001b[0m \u001b[0;34m\u001b[0m\u001b[0m\n\u001b[1;32m   2758\u001b[0m     \u001b[0;32mexcept\u001b[0m \u001b[0mException\u001b[0m \u001b[0;32mas\u001b[0m \u001b[0me\u001b[0m\u001b[0;34m:\u001b[0m\u001b[0;34m\u001b[0m\u001b[0;34m\u001b[0m\u001b[0m\n\u001b[1;32m   2759\u001b[0m         \u001b[0mprint\u001b[0m\u001b[0;34m(\u001b[0m\u001b[0;34m\"Could not convert the geojson to ee.Geometry()\"\u001b[0m\u001b[0;34m)\u001b[0m\u001b[0;34m\u001b[0m\u001b[0;34m\u001b[0m\u001b[0m\n\u001b[0;32m-> 2760\u001b[0;31m         \u001b[0;32mraise\u001b[0m \u001b[0mException\u001b[0m\u001b[0;34m(\u001b[0m\u001b[0me\u001b[0m\u001b[0;34m)\u001b[0m\u001b[0;34m\u001b[0m\u001b[0;34m\u001b[0m\u001b[0m\n\u001b[0m",
      "\u001b[0;31mException\u001b[0m: Invalid GeoJSON geometry."
     ]
    }
   ],
   "source": [
    "# Here we select ndwi max for 12 periods seasons in Andalucia\n",
    "myclass = NdviSeasonality(roi=\"s2:29SQA\", sat='S2', key='perc_95', periods=4,start_year=2017, end_year=2024, index='ndvi')\n",
    "s2 = myclass.get_year_composite()\n",
    "\n",
    "vizParams = {'bands': ['winter', 'spring', 'summer'], 'min': 0, 'max':0.8}\n",
    "\n",
    "Map.addLayer(s2, vizParams, 'P90')"
   ]
  },
  {
   "cell_type": "code",
   "execution_count": 5,
   "id": "32ecc8f3-aa64-45c5-bbab-c48a8d7d9f74",
   "metadata": {},
   "outputs": [
    {
     "data": {
      "text/html": [
       "\n",
       "            <style>\n",
       "                .geemap-dark {\n",
       "                    --jp-widgets-color: white;\n",
       "                    --jp-widgets-label-color: white;\n",
       "                    --jp-ui-font-color1: white;\n",
       "                    --jp-layout-color2: #454545;\n",
       "                    background-color: #383838;\n",
       "                }\n",
       "                    \n",
       "                .geemap-dark .jupyter-button {\n",
       "                    --jp-layout-color3: #383838;\n",
       "                }\n",
       "                \n",
       "                .geemap-colab {\n",
       "                    background-color: var(--colab-primary-surface-color, white);\n",
       "                }\n",
       "                    \n",
       "                .geemap-colab .jupyter-button {\n",
       "                    --jp-layout-color3: var(--colab-primary-surface-color, white);\n",
       "                }\n",
       "            </style>\n",
       "            "
      ],
      "text/plain": [
       "<IPython.core.display.HTML object>"
      ]
     },
     "metadata": {},
     "output_type": "display_data"
    },
    {
     "name": "stdout",
     "output_type": "stream",
     "text": [
      "/home/diego/git/Ndvi2Gif/ndvi2gif\n",
      "Archivo limpio guardado como ../data/s2tiles.geojson\n"
     ]
    }
   ],
   "source": [
    "import os\n",
    "\n",
    "print(os.getcwd())\n",
    "\n",
    "import geopandas as gpd\n",
    "gdf = gpd.read_file(\"../data/s2tiles.geojson\")\n",
    "\n",
    "\n",
    "import geopandas as gpd\n",
    "from shapely.geometry import mapping, shape\n",
    "\n",
    "# Ruta al GeoJSON original exportado por QGIS\n",
    "input_path = \"../data/s2tiles.geojson\"\n",
    "output_path = \"../data/s2tiles.geojson\"\n",
    "\n",
    "def drop_z(geom):\n",
    "    \"\"\"Convierte MultiPolygon Z a 2D eliminando la dimensión Z.\"\"\"\n",
    "    if geom.has_z:\n",
    "        return shape(mapping(geom))  # mapping elimina la Z\n",
    "    return geom\n",
    "\n",
    "# Cargar y limpiar\n",
    "gdf = gpd.read_file(input_path)\n",
    "gdf[\"geometry\"] = gdf[\"geometry\"].apply(drop_z)\n",
    "gdf.to_file(output_path, driver=\"GeoJSON\")\n",
    "print(f\"Archivo limpio guardado como {output_path}\")"
   ]
  },
  {
   "cell_type": "code",
   "execution_count": null,
   "id": "0e6d44ca",
   "metadata": {},
   "outputs": [],
   "source": [
    "# Doñana NDVI \n",
    "# Here we select ndwi max for 12 periods seasons\n",
    "# Show graphics and pixel values\n",
    "# Also change to 24 periods\n",
    "\n",
    "myclass = NdviSeasonality(roi=roi, sat='S2', key='max', periods=12,start_year=1984, end_year=2024, index='ndmi')\n",
    "s2 = myclass.get_year_composite()\n",
    "\n",
    "vizParams = {'bands': ['january', 'november', 'july'], 'min': 0, 'max':0.8}\n",
    "\n",
    "Map.addLayer(s2, vizParams, 'P90')"
   ]
  },
  {
   "cell_type": "markdown",
   "id": "d3d3e41c",
   "metadata": {},
   "source": [
    "Of course, it's possible to use loops to load several data at once"
   ]
  },
  {
   "cell_type": "code",
   "execution_count": null,
   "id": "3c046e23-32c3-48f8-be3c-7d2b1e7273ab",
   "metadata": {},
   "outputs": [],
   "source": [
    "# Here we download a gif for all the years in our class with the selected bands\n",
    "myclass.get_gif(bands=['january', 'november', 'july'])"
   ]
  },
  {
   "cell_type": "code",
   "execution_count": null,
   "id": "7cc7044b",
   "metadata": {},
   "outputs": [],
   "source": [
    "Map = geemap.Map()\n",
    "Map"
   ]
  },
  {
   "cell_type": "code",
   "execution_count": null,
   "id": "3ec9bb01",
   "metadata": {},
   "outputs": [],
   "source": [
    "roi = Map.draw_last_feature"
   ]
  },
  {
   "cell_type": "code",
   "execution_count": null,
   "id": "9ed2c0c6",
   "metadata": {},
   "outputs": [],
   "source": [
    "# Statistics loop\n",
    "\n",
    "stats = ['max', 'median', 'mean', 'perc_90', 'perc_95']\n",
    "vizParams = {'bands': ['march', 'april', 'june'], 'min': 0, 'max':0.8}\n",
    "\n",
    "for i in stats:\n",
    "\n",
    "    myclass = NdviSeasonality(roi=roi, sat='S2', key=i, periods=12,start_year=2020, end_year=2022, index='ndvi')\n",
    "    s2 = myclass.get_year_composite()\n",
    "    Map.addLayer(s2, vizParams, str(i))"
   ]
  },
  {
   "cell_type": "code",
   "execution_count": null,
   "id": "212f9262",
   "metadata": {},
   "outputs": [],
   "source": [
    "# Years loop\n",
    "# Change roi to Doñana deimsID\n",
    "\n",
    "years = [i for i in range(2018, 2023)]\n",
    "\n",
    "vizParams = {'bands': ['march', 'april', 'june'], 'min': 0, 'max':0.8}\n",
    "\n",
    "for y in years:\n",
    "    \n",
    "    name = 'maxNDVI_' + str(y)\n",
    "    myclass = NdviSeasonality(roi=roi, sat='S2', key='perc_90', periods=12,start_year=y, end_year=y+1, index='ndvi')\n",
    "    s2 = myclass.get_year_composite()\n",
    "    Map.addLayer(s2, vizParams, name)"
   ]
  },
  {
   "cell_type": "markdown",
   "id": "3ea5dc40",
   "metadata": {},
   "source": [
    "We could do something bigger. \n",
    "Africa Example with MODIS"
   ]
  },
  {
   "cell_type": "code",
   "execution_count": null,
   "id": "aeb39fff",
   "metadata": {},
   "outputs": [],
   "source": [
    "Map = geemap.Map()\n",
    "Map"
   ]
  },
  {
   "cell_type": "code",
   "execution_count": null,
   "id": "f8e49a7b",
   "metadata": {},
   "outputs": [],
   "source": [
    "import ee\n",
    "countries = ee.FeatureCollection('USDOS/LSIB_SIMPLE/2017').filter(ee.Filter.eq(\"wld_rgn\", \"Africa\"))"
   ]
  },
  {
   "cell_type": "code",
   "execution_count": null,
   "id": "9ede6e4e",
   "metadata": {},
   "outputs": [],
   "source": [
    "# Africa NDVI Mean\n",
    "# Also show Nile delta with S2, take a sight on what you can see over the desert\n",
    "\n",
    "Africa = NdviSeasonality(roi=roi, sat='MODIS', key='mean', periods=4,start_year=2020, end_year=2022, index='ndvi')\n",
    "MODIS = Africa.get_year_composite()\n",
    "\n",
    "vizParams = {'bands': ['summer', 'winter', 'spring'], 'min': 0.1, 'max':0.8}\n",
    "Map.addLayer(MODIS, vizParams, 'S2_P95_24')"
   ]
  },
  {
   "cell_type": "markdown",
   "id": "d7ad97fa",
   "metadata": {},
   "source": [
    "We said deimsPY allows to select your eLTER site qith only using your deimsID, so let's check it out"
   ]
  },
  {
   "cell_type": "code",
   "execution_count": null,
   "id": "b2c5c7ff",
   "metadata": {},
   "outputs": [],
   "source": [
    "Map = geemap.Map()\n",
    "Map"
   ]
  },
  {
   "cell_type": "code",
   "execution_count": null,
   "id": "1abdcdb0",
   "metadata": {},
   "outputs": [],
   "source": [
    "# Braila Island Flood\n",
    "\n",
    "myclass = NdviSeasonality(roi='deimsid:https://deims.org/d4854af8-9d9f-42a2-af96-f1ed9cb25712', sat='S2', key='perc_95', periods=12,start_year=2017, end_year=2022, index='ndwi')\n",
    "s2 = myclass.get_year_composite()\n",
    "vizParams = {'bands': ['october', 'june', 'january'], 'min': 0.1, 'max':0.8}\n",
    "Map.addLayer(s2, vizParams, 'Braila Island P95')"
   ]
  },
  {
   "cell_type": "markdown",
   "id": "dc54cc6b",
   "metadata": {},
   "source": [
    "Let's try to get the maximum flood in al januarys"
   ]
  },
  {
   "cell_type": "code",
   "execution_count": null,
   "id": "2bcd2105",
   "metadata": {},
   "outputs": [],
   "source": [
    "# Max january flood\n",
    "\n",
    "januaryFloodmax = s2.select('january').max()\n",
    "Map.addLayer(januaryFloodmax, {'min': 0, 'max':0.8}, 'January Max Flood P90')"
   ]
  },
  {
   "cell_type": "code",
   "execution_count": null,
   "id": "08fcefbd",
   "metadata": {
    "scrolled": true
   },
   "outputs": [],
   "source": [
    "Map = geemap.Map()\n",
    "Map"
   ]
  },
  {
   "cell_type": "code",
   "execution_count": null,
   "id": "96375792",
   "metadata": {},
   "outputs": [],
   "source": [
    "roi = Map.draw_last_feature"
   ]
  },
  {
   "cell_type": "code",
   "execution_count": null,
   "id": "da8c4dc1",
   "metadata": {},
   "outputs": [],
   "source": [
    "# Doñana NDVI Stats\n",
    "myclass = NdviSeasonality(roi='deimsid:https://deims.org/bcbc866c-3f4f-47a8-bbbc-0a93df6de7b2', sat='Landsat', \n",
    "                          key='max', periods=12,start_year=2019, end_year=2020, index='ndvi')\n",
    "Landsat = myclass.get_year_composite()\n",
    "vizParams = {'bands': ['january', 'april', 'september'], 'min': 0.1, 'max':0.8}\n",
    "\n",
    "Map.addLayer(Landsat, vizParams, 'Max')"
   ]
  },
  {
   "cell_type": "markdown",
   "id": "42ac38ae",
   "metadata": {},
   "source": [
    "We can also have zonal statistic"
   ]
  },
  {
   "cell_type": "code",
   "execution_count": null,
   "id": "ab9b1f3e",
   "metadata": {},
   "outputs": [],
   "source": [
    "# Points and polygons zonal stats\n",
    "\n",
    "import os\n",
    "\n",
    "# This is a Google Earth Engine Feature Collection\n",
    "alcornoques = ee.FeatureCollection('users/digdgeografo/pajarera')\n",
    "\n",
    "# This is a local point shapefile\n",
    "samples = '/home/diego/samples.shp'\n",
    "geom = geemap.shp_to_ee(samples)\n",
    "\n",
    "# Define the ouptut shape\n",
    "out_shp = os.path.join(os.getcwd(), 'mystatstets_oaks.shp')\n",
    "\n",
    "# Compute the statistics\n",
    "geemap.zonal_statistics(Landsat, in_zone_vector=alcornoques, out_file_path=out_shp, statistics_type='MEAN', scale=30)"
   ]
  },
  {
   "cell_type": "markdown",
   "id": "5fa37f09",
   "metadata": {},
   "source": [
    "It is also possible to export the collections. There's a problem qith size limits from GEE but small areas are ok"
   ]
  },
  {
   "cell_type": "code",
   "execution_count": null,
   "id": "6930189b",
   "metadata": {},
   "outputs": [],
   "source": [
    "# Take a smaller roi\n",
    "\n",
    "roi = Map.draw_last_feature"
   ]
  },
  {
   "cell_type": "code",
   "execution_count": null,
   "id": "ee1bcef1",
   "metadata": {},
   "outputs": [],
   "source": [
    "# Here we select ndwi max for 12 periods seasons in Andalucia\n",
    "\n",
    "myclass = NdviSeasonality(roi=roi, sat='Landsat', key='max', periods=12,start_year=2017, end_year=2020, index='ndvi')\n",
    "Landsat = myclass.get_year_composite()\n",
    "vizParams = {'bands': ['january', 'april', 'september'], 'min': 0.1, 'max':0.8}\n",
    "\n",
    "Map.addLayer(Landsat, vizParams, 'Max')"
   ]
  },
  {
   "cell_type": "code",
   "execution_count": null,
   "id": "d058607a",
   "metadata": {},
   "outputs": [],
   "source": [
    "# Export it and load the data in QGIS\n",
    "\n",
    "myclass.get_export()"
   ]
  },
  {
   "cell_type": "code",
   "execution_count": null,
   "id": "c561b381",
   "metadata": {
    "scrolled": true
   },
   "outputs": [],
   "source": [
    "Map = geemap.Map()\n",
    "Map"
   ]
  },
  {
   "cell_type": "code",
   "execution_count": null,
   "id": "a9586229",
   "metadata": {},
   "outputs": [],
   "source": [
    "roi = Map.draw_last_feature"
   ]
  },
  {
   "cell_type": "code",
   "execution_count": null,
   "id": "bf678deb",
   "metadata": {},
   "outputs": [],
   "source": [
    "# Last but not least and exaample of Sierra Nevada NDSI\n",
    "\n",
    "myclass = NdviSeasonality(roi=roi, sat='S2', key='median',\n",
    "                          periods=12,start_year=2020, end_year=2022, index='ndsi')\n",
    "s2 = myclass.get_year_composite()\n",
    "\n",
    "vizParams = {'bands': ['january', 'february', 'march'], 'min': 0, 'max':0.8}\n",
    "Map.addLayer(s2, vizParams, 'S2_MAX_Sierra Nevada')"
   ]
  }
 ],
 "metadata": {
  "hide_input": false,
  "kernelspec": {
   "display_name": "Python 3 (ipykernel)",
   "language": "python",
   "name": "python3"
  },
  "language_info": {
   "codemirror_mode": {
    "name": "ipython",
    "version": 3
   },
   "file_extension": ".py",
   "mimetype": "text/x-python",
   "name": "python",
   "nbconvert_exporter": "python",
   "pygments_lexer": "ipython3",
   "version": "3.10.12"
  },
  "toc": {
   "base_numbering": 1,
   "nav_menu": {},
   "number_sections": true,
   "sideBar": true,
   "skip_h1_title": false,
   "title_cell": "Table of Contents",
   "title_sidebar": "Contents",
   "toc_cell": false,
   "toc_position": {},
   "toc_section_display": true,
   "toc_window_display": false
  },
  "varInspector": {
   "cols": {
    "lenName": 16,
    "lenType": 16,
    "lenVar": 40
   },
   "kernels_config": {
    "python": {
     "delete_cmd_postfix": "",
     "delete_cmd_prefix": "del ",
     "library": "var_list.py",
     "varRefreshCmd": "print(var_dic_list())"
    },
    "r": {
     "delete_cmd_postfix": ") ",
     "delete_cmd_prefix": "rm(",
     "library": "var_list.r",
     "varRefreshCmd": "cat(var_dic_list()) "
    }
   },
   "types_to_exclude": [
    "module",
    "function",
    "builtin_function_or_method",
    "instance",
    "_Feature"
   ],
   "window_display": false
  }
 },
 "nbformat": 4,
 "nbformat_minor": 5
}
